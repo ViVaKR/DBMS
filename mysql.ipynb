{
    "cells": [
        {
            "attachments": {},
            "cell_type": "markdown",
            "metadata": {
                "azdata_cell_guid": "66c33b6a-cc3a-49a3-bf03-44360a5a024e"
            },
            "source": [
                "# MySQL Note"
            ]
        },
        {
            "attachments": {},
            "cell_type": "markdown",
            "metadata": {
                "azdata_cell_guid": "17396a49-c8d7-4378-a140-75297703489f"
            },
            "source": [
                "### Schemas : 데이터베이스와 동일한 개념\n",
                "1. Create Schema `[데이터베이스명]`;\n",
                "2. \n"
            ]
        },
        {
            "cell_type": "code",
            "execution_count": null,
            "metadata": {
                "azdata_cell_guid": "978eb0a6-d105-432b-9430-270d79f466a3",
                "language": "sql",
                "vscode": {
                    "languageId": "plaintext"
                }
            },
            "outputs": [],
            "source": []
        }
    ],
    "metadata": {
        "kernelspec": {
            "display_name": "SQL",
            "language": "sql",
            "name": "SQL"
        },
        "language_info": {
            "name": "sql",
            "version": ""
        }
    },
    "nbformat": 4,
    "nbformat_minor": 2
}
