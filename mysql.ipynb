{
    "metadata": {
        "kernelspec": {
            "name": "SQL",
            "display_name": "SQL",
            "language": "sql"
        },
        "language_info": {
            "name": "sql",
            "version": ""
        }
    },
    "nbformat_minor": 2,
    "nbformat": 4,
    "cells": [
        {
            "cell_type": "markdown",
            "source": [
                "# MySQL Note"
            ],
            "metadata": {
                "azdata_cell_guid": "66c33b6a-cc3a-49a3-bf03-44360a5a024e"
            },
            "attachments": {}
        },
        {
            "cell_type": "markdown",
            "source": [
                ""
            ],
            "metadata": {
                "azdata_cell_guid": "17396a49-c8d7-4378-a140-75297703489f"
            }
        }
    ]
}