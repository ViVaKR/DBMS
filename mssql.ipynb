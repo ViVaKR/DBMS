{
 "cells": [
  {
   "attachments": {},
   "cell_type": "markdown",
   "metadata": {},
   "source": [
    "# MS SQL"
   ]
  },
  {
   "attachments": {},
   "cell_type": "markdown",
   "metadata": {},
   "source": [
    "## Self SignedCertificate"
   ]
  },
  {
   "cell_type": "code",
   "execution_count": null,
   "metadata": {
    "vscode": {
     "languageId": "powershell"
    }
   },
   "outputs": [],
   "source": [
    "New-SelfSignedCertificate -Type SSLServerAuthentication -Subject \"CN=$env:COMPUTERNAME\" `\n",
    "-DnsName (\"{0}\" -f [System.Net.Dns]::GetHostByName($env:computerName).HostName),'localhost' `\n",
    "-KeyAlgorithm \"RSA\" -KeyLength 2048 -HashAlgorithm \"SHA256\" -TextExtension \"2.5.29.37={text}1.3.6.1.5.5.7.3.1\" `\n",
    "-NotAfter (Get-Date).AddMonths(36) -KeySpec KeyExchange -Provider \"Microsoft RSA SChannel Cryptographic Provider\" `\n",
    "-CertStoreLocation \"cert:\\LocalMachine\\My\""
   ]
  },
  {
   "cell_type": "markdown",
   "metadata": {},
   "source": []
  }
 ],
 "metadata": {
  "language_info": {
   "name": "python"
  },
  "orig_nbformat": 4
 },
 "nbformat": 4,
 "nbformat_minor": 2
}
